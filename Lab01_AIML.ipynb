{
  "nbformat": 4,
  "nbformat_minor": 0,
  "metadata": {
    "colab": {
      "provenance": [],
      "authorship_tag": "ABX9TyMCs1sXdzmAlDpaMmlTSs26",
      "include_colab_link": true
    },
    "kernelspec": {
      "name": "python3",
      "display_name": "Python 3"
    },
    "language_info": {
      "name": "python"
    }
  },
  "cells": [
    {
      "cell_type": "markdown",
      "metadata": {
        "id": "view-in-github",
        "colab_type": "text"
      },
      "source": [
        "<a href=\"https://colab.research.google.com/github/Rohith51591/AIML-2025/blob/main/Lab01_AIML.ipynb\" target=\"_parent\"><img src=\"https://colab.research.google.com/assets/colab-badge.svg\" alt=\"Open In Colab\"/></a>"
      ]
    },
    {
      "cell_type": "code",
      "execution_count": 1,
      "metadata": {
        "id": "DwyWXC8Sc-M4",
        "outputId": "6c96769b-c496-468c-d5ad-79c3fb1f4455",
        "colab": {
          "base_uri": "https://localhost:8080/",
          "height": 106
        }
      },
      "outputs": [
        {
          "output_type": "error",
          "ename": "SyntaxError",
          "evalue": "unmatched ')' (<ipython-input-1-1d380a38d3c4>, line 31)",
          "traceback": [
            "\u001b[0;36m  File \u001b[0;32m\"<ipython-input-1-1d380a38d3c4>\"\u001b[0;36m, line \u001b[0;32m31\u001b[0m\n\u001b[0;31m    Dividing two arrays: array1 / array2)\u001b[0m\n\u001b[0m                                        ^\u001b[0m\n\u001b[0;31mSyntaxError\u001b[0m\u001b[0;31m:\u001b[0m unmatched ')'\n"
          ]
        }
      ],
      "source": [
        "import numpy as np\n",
        "import matplotlib.pyplot as plt\n",
        "import pandas as pd\n",
        "\n",
        "\n",
        "## Create a list, array\n",
        "list1 = [1,2,3,4]\n",
        "array1  = np.array(list1)\n",
        "array1\n",
        "array2 = np.array([1,2,3,4])\n",
        "list1, array1, array2\n",
        "\n",
        "([1, 2, 3, 4], array([1, 2, 3, 4]), array([1, 2, 3, 4]))\n",
        "\n",
        "## Identify the type of Data structure\n",
        "type(list1), type(array1), type(array2)\n",
        "\n",
        "(list, numpy.ndarray, numpy.ndarray)\n",
        "\n",
        "## Perform Mathematical operations on arrays, lists\n",
        "print(\"Adding two arrays:\", array1 + array2)\n",
        "print(\"Subtracting two arrays: array1 - array2\")\n",
        "print(\"Multiplying two arrays: array1 * array2\")\n",
        "print(\"Dividing two arrays: array1 / array2)\")\n",
        "print(\"Exponentiating two arrays: array1 ** array2\")\n",
        "print(\"Multiply array to list: array2 * list1\")\n",
        "\n",
        "Adding two arrays: [2 4 6 8]\n",
        "Subtracting two arrays: array1 - array2\n",
        "Multiplying two arrays: array1 * array2\n",
        "Dividing two arrays: array1 / array2)\n",
        "Exponentiating two arrays: array1 ** array2\n",
        "Multiply array to list: array2 * list1\n",
        "\n",
        "# Combine text with Numpy function\n",
        "print(f\"Adding{array1} with {array2}\")\n",
        "print(f\"Result: {np.add(array1, array2)}\")\n",
        "\n",
        "Adding[1 2 3 4] with [1 2 3 4]\n",
        "Result: [2 4 6 8]\n",
        "\n",
        "# Find the Sin, Log, Log2, Exp values\n",
        "print(f\"Sine value of array1:{np.sin(array1)}\")\n",
        "print(f\"Log value of array1:{np.log(array1)}\")\n",
        "print(f\"Log base 2 value of array1:{np.log2(array1)}\")\n",
        "print(f\"Log base 10 value of array1:{np.log10(array1)}\")\n",
        "print(f\"Exponential value of array1:{np.exp(array1)}\")\n",
        "\n",
        "Sine value of array1:[ 0.84147098  0.90929743  0.14112001 -0.7568025 ]\n",
        "Log value of array1:[0.         0.69314718 1.09861229 1.38629436]\n",
        "Log base 2 value of array1:[0.        1.        1.5849625 2.       ]\n",
        "Log base 10 value of array1:[0.         0.30103    0.47712125 0.60205999]\n",
        "Exponential value of array1:[ 2.71828183  7.3890561  20.08553692 54.59815003]\n",
        "Part 02:Visualize the data using Matplotib,pyplot Libraries\n",
        "\n",
        "import matplotlib.pyplot as plt\n",
        "\n",
        "\n",
        "#Create the data\n",
        "people=[\"Lasya\",\"Varshini\",\"Madhu\",\"Samhhitha\",\"Bhanu\"]\n",
        "age=[20,18,17,19,16]\n",
        "height=[145,156,152,153,151]\n",
        "weight=[42,47,62,58,40]\n",
        "\n",
        "\n",
        "#Generate scatter plot\n",
        "#Find the relationship between age and height\n",
        "plt.scatter(age,height)\n",
        "plt.xlabel(\"age\")\n",
        "plt.ylabel('height')\n",
        "plt.title(\"Age vs Height\")\n",
        "plt.show()"
      ]
    },
    {
      "cell_type": "code",
      "source": [
        "#Bar chart for height\n",
        "plt.figure(figsize=(5,4))\n",
        "plt.bar(age,height)\n",
        "plt.xlabel(\"People\")\n",
        "plt.ylabel('height')\n",
        "plt.title(\"Height of the people\")\n",
        "plt.show()\n",
        "save=plt.savefig('bar_chart.png')"
      ],
      "metadata": {
        "id": "E2COvG2P3XuE",
        "outputId": "14de4d6a-9746-4a4f-c29b-8deee67473f9",
        "colab": {
          "base_uri": "https://localhost:8080/",
          "height": 211
        }
      },
      "execution_count": 2,
      "outputs": [
        {
          "output_type": "error",
          "ename": "NameError",
          "evalue": "name 'plt' is not defined",
          "traceback": [
            "\u001b[0;31m---------------------------------------------------------------------------\u001b[0m",
            "\u001b[0;31mNameError\u001b[0m                                 Traceback (most recent call last)",
            "\u001b[0;32m<ipython-input-2-4982b7f36bd9>\u001b[0m in \u001b[0;36m<cell line: 2>\u001b[0;34m()\u001b[0m\n\u001b[1;32m      1\u001b[0m \u001b[0;31m#Bar chart for height\u001b[0m\u001b[0;34m\u001b[0m\u001b[0;34m\u001b[0m\u001b[0m\n\u001b[0;32m----> 2\u001b[0;31m \u001b[0mplt\u001b[0m\u001b[0;34m.\u001b[0m\u001b[0mfigure\u001b[0m\u001b[0;34m(\u001b[0m\u001b[0mfigsize\u001b[0m\u001b[0;34m=\u001b[0m\u001b[0;34m(\u001b[0m\u001b[0;36m5\u001b[0m\u001b[0;34m,\u001b[0m\u001b[0;36m4\u001b[0m\u001b[0;34m)\u001b[0m\u001b[0;34m)\u001b[0m\u001b[0;34m\u001b[0m\u001b[0;34m\u001b[0m\u001b[0m\n\u001b[0m\u001b[1;32m      3\u001b[0m \u001b[0mplt\u001b[0m\u001b[0;34m.\u001b[0m\u001b[0mbar\u001b[0m\u001b[0;34m(\u001b[0m\u001b[0mage\u001b[0m\u001b[0;34m,\u001b[0m\u001b[0mheight\u001b[0m\u001b[0;34m)\u001b[0m\u001b[0;34m\u001b[0m\u001b[0;34m\u001b[0m\u001b[0m\n\u001b[1;32m      4\u001b[0m \u001b[0mplt\u001b[0m\u001b[0;34m.\u001b[0m\u001b[0mxlabel\u001b[0m\u001b[0;34m(\u001b[0m\u001b[0;34m\"People\"\u001b[0m\u001b[0;34m)\u001b[0m\u001b[0;34m\u001b[0m\u001b[0;34m\u001b[0m\u001b[0m\n\u001b[1;32m      5\u001b[0m \u001b[0mplt\u001b[0m\u001b[0;34m.\u001b[0m\u001b[0mylabel\u001b[0m\u001b[0;34m(\u001b[0m\u001b[0;34m'height'\u001b[0m\u001b[0;34m)\u001b[0m\u001b[0;34m\u001b[0m\u001b[0;34m\u001b[0m\u001b[0m\n",
            "\u001b[0;31mNameError\u001b[0m: name 'plt' is not defined"
          ]
        }
      ]
    }
  ]
}